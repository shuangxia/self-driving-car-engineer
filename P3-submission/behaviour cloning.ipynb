{
 "cells": [
  {
   "cell_type": "code",
   "execution_count": 1,
   "metadata": {},
   "outputs": [
    {
     "name": "stderr",
     "output_type": "stream",
     "text": [
      "Using TensorFlow backend.\n",
      "/home/carnd/anaconda3/envs/carnd-term1/lib/python3.5/site-packages/h5py/__init__.py:36: FutureWarning: Conversion of the second argument of issubdtype from `float` to `np.floating` is deprecated. In future, it will be treated as `np.float64 == np.dtype(float).type`.\n",
      "  from ._conv import register_converters as _register_converters\n"
     ]
    },
    {
     "name": "stdout",
     "output_type": "stream",
     "text": [
      "Epoch 1/6\n",
      "19200/19284 [============================>.] - ETA: 0s - loss: 0.0227"
     ]
    },
    {
     "name": "stderr",
     "output_type": "stream",
     "text": [
      "/home/carnd/anaconda3/envs/carnd-term1/lib/python3.5/site-packages/keras/engine/training.py:1569: UserWarning: Epoch comprised more than `samples_per_epoch` samples, which might affect learning results. Set `samples_per_epoch` correctly to avoid this warning.\n",
      "  warnings.warn('Epoch comprised more than '\n"
     ]
    },
    {
     "name": "stdout",
     "output_type": "stream",
     "text": [
      "19392/19284 [==============================] - 40s - loss: 0.0228 - val_loss: 0.0131\n",
      "Epoch 2/6\n",
      "19368/19284 [==============================] - 38s - loss: 0.0191 - val_loss: 0.0121\n",
      "Epoch 3/6\n",
      "19392/19284 [==============================] - 37s - loss: 0.0174 - val_loss: 0.0124\n",
      "Epoch 4/6\n",
      "19368/19284 [==============================] - 37s - loss: 0.0176 - val_loss: 0.0124\n",
      "Epoch 5/6\n",
      "19392/19284 [==============================] - 36s - loss: 0.0163 - val_loss: 0.0123\n",
      "Epoch 6/6\n",
      "19368/19284 [==============================] - 36s - loss: 0.0164 - val_loss: 0.0118\n"
     ]
    }
   ],
   "source": [
    "import os\n",
    "import cv2\n",
    "import numpy as np\n",
    "import csv\n",
    "from sklearn.utils import shuffle\n",
    "from sklearn.model_selection import train_test_split\n",
    "import matplotlib.pyplot as plt\n",
    "import random\n",
    "\n",
    "from keras.models import Sequential, Model\n",
    "from keras.layers import Input, Convolution2D, Flatten, Dense, Dropout, Activation, Lambda, Cropping2D\n",
    "\n",
    "CONFIG = {\n",
    "    'batchsize': 32,\n",
    "    'input_width': 320,\n",
    "    'input_height': 160,\n",
    "    'input_channels': 3,\n",
    "    'correction': 0.2,\n",
    "    'cropping': ((60,25), (0,0))\n",
    "}\n",
    "\n",
    "def load_and_split_data(data_path, test_size=0.2):\n",
    "    with open(data_path, 'r') as csvfile:\n",
    "        reader = csv.reader(csvfile)\n",
    "        samples = [line for line in reader][1:]\n",
    "    train_samples, validation_samples = train_test_split(samples, test_size=test_size, random_state=0)\n",
    "    return train_samples, validation_samples\n",
    "\n",
    "def generator(samples, img_path, side_camera=False, augment_data=False, batch_size=32):\n",
    "    num_samples = len(samples)\n",
    "    while 1:\n",
    "        shuffle(samples)\n",
    "        for offset in range(0, num_samples, batch_size):\n",
    "            batch_samples = samples[offset:offset+batch_size]\n",
    "            images = []\n",
    "            angles = []\n",
    "            for batch_sample in batch_samples:\n",
    "                center, left, right, steering, throttle, brake, speed = batch_sample\n",
    "                \n",
    "                steering_center = float(steering)\n",
    "                center_image = cv2.imread(os.path.join(img_path, center.strip()))\n",
    "                \n",
    "                images.append(center_image)\n",
    "                angles.append(steering_center)\n",
    "                \n",
    "                if side_camera:\n",
    "                    steering_left = steering_center + CONFIG['correction']\n",
    "                    left_image = cv2.imread(os.path.join(img_path, left.strip()))\n",
    "                    images.append(left_image)\n",
    "                    angles.append(steering_left)\n",
    "\n",
    "                    steering_right = steering_center - CONFIG['correction']\n",
    "                    right_image = cv2.imread(os.path.join(img_path, right.strip()))\n",
    "                    images.append(right_image)\n",
    "                    angles.append(steering_right)\n",
    "                        \n",
    "            if augment_data:\n",
    "                images_copy = images.copy()\n",
    "                angles_copy = angles.copy()\n",
    "                for image, angle in zip(images_copy, angles_copy):\n",
    "                    images.append(cv2.flip(image, 1))\n",
    "                    angles.append(angle*-1.0)\n",
    "\n",
    "            X_train = np.array(images)\n",
    "            y_train = np.array(angles)\n",
    "            yield shuffle(X_train, y_train)\n",
    "            \n",
    "def nvidia_model(summary=True):\n",
    "    model = Sequential()\n",
    "    model.add(Lambda(lambda x: x / 255.0 - 0.5, input_shape=(CONFIG['input_height'], CONFIG['input_width'], CONFIG['input_channels'])))\n",
    "    model.add(Cropping2D(cropping=CONFIG['cropping']))\n",
    "    model.add(Convolution2D(24,5,5, subsample=(2,2),activation='relu'))\n",
    "    model.add(Convolution2D(36,5,5, subsample=(2,2),activation='relu'))\n",
    "    model.add(Convolution2D(48,5,5, subsample=(2,2),activation='relu'))\n",
    "    model.add(Convolution2D(64,3,3, activation='relu'))\n",
    "    model.add(Convolution2D(64,3,3, activation='relu'))\n",
    "    model.add(Flatten())\n",
    "    model.add(Dense(100))\n",
    "    model.add(Dropout(0.5))\n",
    "    model.add(Dense(50))\n",
    "    model.add(Dropout(0.5))\n",
    "    model.add(Dense(10))\n",
    "    model.add(Dense(1))\n",
    "\n",
    "    if summary:\n",
    "        model.summary()\n",
    "    \n",
    "    return model\n",
    "\n",
    "if __name__ == \"__main__\":\n",
    "    train_samples, validation_samples = load_and_split_data(data_path='./data/data/driving_log.csv', test_size=0.2)\n",
    "\n",
    "    train_generator = generator(train_samples, img_path='./data/data', side_camera=True, augment_data=True,  batch_size=CONFIG['batchsize'])\n",
    "    validation_generator = generator(validation_samples, img_path='./data/data', batch_size=CONFIG['batchsize'])\n",
    "\n",
    "    model = nvidia_model(summary=False)\n",
    "    model.compile(optimizer='adam', loss='mse')\n",
    "\n",
    "    model.fit_generator(train_generator, samples_per_epoch=len(train_samples)*3, \n",
    "                                        validation_data=validation_generator, nb_val_samples=len(validation_samples), \n",
    "                                        nb_epoch=6, verbose=1)\n",
    "\n",
    "    model.save('model3.h5')\n"
   ]
  },
  {
   "cell_type": "code",
   "execution_count": 1,
   "metadata": {},
   "outputs": [
    {
     "name": "stdout",
     "output_type": "stream",
     "text": [
      "[name: \"/cpu:0\"\n",
      "device_type: \"CPU\"\n",
      "memory_limit: 268435456\n",
      "locality {\n",
      "}\n",
      "incarnation: 3414915763188192412\n",
      ", name: \"/gpu:0\"\n",
      "device_type: \"GPU\"\n",
      "memory_limit: 204472320\n",
      "locality {\n",
      "  bus_id: 1\n",
      "}\n",
      "incarnation: 12352553770772824987\n",
      "physical_device_desc: \"device: 0, name: GRID K520, pci bus id: 0000:00:03.0\"\n",
      ", name: \"/gpu:1\"\n",
      "device_type: \"GPU\"\n",
      "memory_limit: 67108864\n",
      "locality {\n",
      "  bus_id: 1\n",
      "}\n",
      "incarnation: 1794417282979895103\n",
      "physical_device_desc: \"device: 1, name: GRID K520, pci bus id: 0000:00:04.0\"\n",
      ", name: \"/gpu:2\"\n",
      "device_type: \"GPU\"\n",
      "memory_limit: 67108864\n",
      "locality {\n",
      "  bus_id: 1\n",
      "}\n",
      "incarnation: 16401946691897159913\n",
      "physical_device_desc: \"device: 2, name: GRID K520, pci bus id: 0000:00:05.0\"\n",
      ", name: \"/gpu:3\"\n",
      "device_type: \"GPU\"\n",
      "memory_limit: 67108864\n",
      "locality {\n",
      "  bus_id: 1\n",
      "}\n",
      "incarnation: 12109443125900092881\n",
      "physical_device_desc: \"device: 3, name: GRID K520, pci bus id: 0000:00:06.0\"\n",
      "]\n"
     ]
    }
   ],
   "source": [
    "from tensorflow.python.client import device_lib\n",
    "print(device_lib.list_local_devices())"
   ]
  },
  {
   "cell_type": "code",
   "execution_count": 2,
   "metadata": {},
   "outputs": [
    {
     "name": "stdout",
     "output_type": "stream",
     "text": [
      "Mon Mar 19 21:33:58 2018       \r\n",
      "+-----------------------------------------------------------------------------+\r\n",
      "| NVIDIA-SMI 367.57                 Driver Version: 367.57                    |\r\n",
      "|-------------------------------+----------------------+----------------------+\r\n",
      "| GPU  Name        Persistence-M| Bus-Id        Disp.A | Volatile Uncorr. ECC |\r\n",
      "| Fan  Temp  Perf  Pwr:Usage/Cap|         Memory-Usage | GPU-Util  Compute M. |\r\n",
      "|===============================+======================+======================|\r\n",
      "|   0  GRID K520           Off  | 0000:00:03.0     Off |                  N/A |\r\n",
      "| N/A   66C    P0    57W / 125W |   4017MiB /  4036MiB |     84%      Default |\r\n",
      "+-------------------------------+----------------------+----------------------+\r\n",
      "|   1  GRID K520           Off  | 0000:00:04.0     Off |                  N/A |\r\n",
      "| N/A   50C    P8    17W / 125W |   3837MiB /  4036MiB |      0%      Default |\r\n",
      "+-------------------------------+----------------------+----------------------+\r\n",
      "|   2  GRID K520           Off  | 0000:00:05.0     Off |                  N/A |\r\n",
      "| N/A   34C    P8    17W / 125W |   3837MiB /  4036MiB |      0%      Default |\r\n",
      "+-------------------------------+----------------------+----------------------+\r\n",
      "|   3  GRID K520           Off  | 0000:00:06.0     Off |                  N/A |\r\n",
      "| N/A   34C    P8    17W / 125W |   3837MiB /  4036MiB |      0%      Default |\r\n",
      "+-------------------------------+----------------------+----------------------+\r\n",
      "                                                                               \r\n",
      "+-----------------------------------------------------------------------------+\r\n",
      "| Processes:                                                       GPU Memory |\r\n",
      "|  GPU       PID  Type  Process name                               Usage      |\r\n",
      "|=============================================================================|\r\n",
      "|    0      2206    C   ...rnd/anaconda3/envs/carnd-term1/bin/python   211MiB |\r\n",
      "|    0      2219    C   python                                        3804MiB |\r\n",
      "|    1      2206    C   ...rnd/anaconda3/envs/carnd-term1/bin/python   100MiB |\r\n",
      "|    1      2219    C   python                                        3735MiB |\r\n",
      "|    2      2206    C   ...rnd/anaconda3/envs/carnd-term1/bin/python   100MiB |\r\n",
      "|    2      2219    C   python                                        3735MiB |\r\n",
      "|    3      2206    C   ...rnd/anaconda3/envs/carnd-term1/bin/python   100MiB |\r\n",
      "|    3      2219    C   python                                        3735MiB |\r\n",
      "+-----------------------------------------------------------------------------+\r\n"
     ]
    }
   ],
   "source": [
    "!nvidia-smi"
   ]
  },
  {
   "cell_type": "code",
   "execution_count": null,
   "metadata": {},
   "outputs": [],
   "source": []
  }
 ],
 "metadata": {
  "kernelspec": {
   "display_name": "Python 3",
   "language": "python",
   "name": "python3"
  },
  "language_info": {
   "codemirror_mode": {
    "name": "ipython",
    "version": 3
   },
   "file_extension": ".py",
   "mimetype": "text/x-python",
   "name": "python",
   "nbconvert_exporter": "python",
   "pygments_lexer": "ipython3",
   "version": "3.5.5"
  },
  "widgets": {
   "state": {},
   "version": "1.1.2"
  }
 },
 "nbformat": 4,
 "nbformat_minor": 2
}
