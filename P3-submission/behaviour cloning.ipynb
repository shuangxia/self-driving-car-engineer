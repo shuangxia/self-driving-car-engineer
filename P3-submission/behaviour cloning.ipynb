{
 "cells": [
  {
   "cell_type": "code",
   "execution_count": 1,
   "metadata": {},
   "outputs": [
    {
     "name": "stderr",
     "output_type": "stream",
     "text": [
      "Using TensorFlow backend.\n"
     ]
    }
   ],
   "source": [
    "import os\n",
    "import cv2\n",
    "import numpy as np\n",
    "import csv\n",
    "from sklearn.utils import shuffle\n",
    "from sklearn.model_selection import train_test_split\n",
    "import matplotlib.pyplot as plt\n",
    "import random\n",
    "\n",
    "\n",
    "from keras.models import Sequential, Model\n",
    "from keras.layers import Input, Convolution2D, Flatten, Dense, Dropout, Activation, Lambda, Cropping2D\n",
    "from keras.callbacks import ModelCheckpoint, CSVLogger"
   ]
  },
  {
   "cell_type": "code",
   "execution_count": 2,
   "metadata": {},
   "outputs": [],
   "source": [
    "CONFIG = {\n",
    "    'batchsize': 32,\n",
    "    'input_width': 320,\n",
    "    'input_height': 160,\n",
    "    'input_channels': 3,\n",
    "    'correction': 0.2,\n",
    "    'cropping': ((50,20), (0,0))\n",
    "}"
   ]
  },
  {
   "cell_type": "code",
   "execution_count": 3,
   "metadata": {},
   "outputs": [],
   "source": [
    "def load_and_split_data(data_path, test_size=0.2):\n",
    "    with open(data_path, 'r') as csvfile:\n",
    "        reader = csv.reader(csvfile)\n",
    "        samples = [line for line in reader][1:]\n",
    "    train_samples, validation_samples = train_test_split(samples, test_size=test_size, random_state=0)\n",
    "    return train_samples, validation_samples\n",
    "\n",
    "def generator(samples, img_path, multi_camera=False, augment_data=False, batch_size=32):\n",
    "    num_samples = len(samples)\n",
    "    while 1:\n",
    "        shuffle(samples)\n",
    "        for offset in range(0, num_samples, batch_size):\n",
    "            batch_samples = samples[offset:offset+batch_size]\n",
    "            images = []\n",
    "            angles = []\n",
    "            for batch_sample in batch_samples:\n",
    "                center, left, right, steering, throttle, brake, speed = batch_sample\n",
    "                \n",
    "                steering_center = float(steering)\n",
    "                center_image = cv2.imread(os.path.join(img_path, center))\n",
    "\n",
    "                images.append(center_image)\n",
    "                angles.append(steering_center)\n",
    "\n",
    "                if multi_camera:\n",
    "                    correction = CONFIG['correction']\n",
    "                    steering_left = steering_center + correction\n",
    "                    steering_right = steering_center - correction\n",
    "\n",
    "                    left_image = cv2.imread(os.path.join(img_path, left))\n",
    "                    right_image = cv2.imread(os.path.join(img_path, right))\n",
    "                    \n",
    "                    images.extend([center_image, left_image, right_image])\n",
    "                    angles.extend([steering_center, steering_left, steering_right])\n",
    "                \n",
    "                if augment_data:\n",
    "                    for image, measurement in zip(images, angles):\n",
    "                        images.append(cv2.flip(image, 1))\n",
    "                        angles.append(measurement*-1.0)\n",
    "\n",
    "            X_train = np.array(images)\n",
    "            y_train = np.array(angles)\n",
    "            yield shuffle(X_train, y_train)\n",
    "\n",
    "def nvidia_model(summary=True):\n",
    "    model = Sequential()\n",
    "    model.add(Lambda(lambda x: x / 255.0 - 0.5, input_shape=(CONFIG['input_height'], CONFIG['input_width'], CONFIG['input_channels'])))\n",
    "    model.add(Cropping2D(cropping=CONFIG['cropping']))\n",
    "    model.add(Convolution2D(24,5,5, subsample=(2,2),activation='relu'))\n",
    "    model.add(Convolution2D(36,5,5, subsample=(2,2),activation='relu'))\n",
    "    model.add(Convolution2D(48,5,5, subsample=(2,2),activation='relu'))\n",
    "    model.add(Convolution2D(64,3,3, activation='relu'))\n",
    "    model.add(Convolution2D(64,3,3, activation='relu'))\n",
    "    model.add(Flatten())\n",
    "    model.add(Dense(100))\n",
    "    model.add(Dense(50))\n",
    "    model.add(Dense(10))\n",
    "    model.add(Dense(1))\n",
    "\n",
    "    if summary:\n",
    "        model.summary()\n",
    "    \n",
    "    return model"
   ]
  },
  {
   "cell_type": "code",
   "execution_count": 4,
   "metadata": {
    "scrolled": false
   },
   "outputs": [
    {
     "name": "stderr",
     "output_type": "stream",
     "text": [
      "/home/carnd/anaconda3/envs/carnd-term1/lib/python3.5/site-packages/ipykernel_launcher.py:49: UserWarning: Update your `Conv2D` call to the Keras 2 API: `Conv2D(24, (5, 5), activation=\"relu\", strides=(2, 2))`\n",
      "/home/carnd/anaconda3/envs/carnd-term1/lib/python3.5/site-packages/ipykernel_launcher.py:50: UserWarning: Update your `Conv2D` call to the Keras 2 API: `Conv2D(36, (5, 5), activation=\"relu\", strides=(2, 2))`\n",
      "/home/carnd/anaconda3/envs/carnd-term1/lib/python3.5/site-packages/ipykernel_launcher.py:51: UserWarning: Update your `Conv2D` call to the Keras 2 API: `Conv2D(48, (5, 5), activation=\"relu\", strides=(2, 2))`\n",
      "/home/carnd/anaconda3/envs/carnd-term1/lib/python3.5/site-packages/ipykernel_launcher.py:52: UserWarning: Update your `Conv2D` call to the Keras 2 API: `Conv2D(64, (3, 3), activation=\"relu\")`\n",
      "/home/carnd/anaconda3/envs/carnd-term1/lib/python3.5/site-packages/ipykernel_launcher.py:53: UserWarning: Update your `Conv2D` call to the Keras 2 API: `Conv2D(64, (3, 3), activation=\"relu\")`\n",
      "/home/carnd/anaconda3/envs/carnd-term1/lib/python3.5/site-packages/ipykernel_launcher.py:20: UserWarning: The semantics of the Keras 2 argument  `steps_per_epoch` is not the same as the Keras 1 argument `samples_per_epoch`. `steps_per_epoch` is the number of batches to draw from the generator at each epoch. Update your method calls accordingly.\n",
      "/home/carnd/anaconda3/envs/carnd-term1/lib/python3.5/site-packages/ipykernel_launcher.py:20: UserWarning: Update your `fit_generator` call to the Keras 2 API: `fit_generator(<generator..., validation_steps=3200, steps_per_epoch=9600, epochs=3, validation_data=<generator..., verbose=1)`\n"
     ]
    },
    {
     "name": "stdout",
     "output_type": "stream",
     "text": [
      "_________________________________________________________________\n",
      "Layer (type)                 Output Shape              Param #   \n",
      "=================================================================\n",
      "lambda_1 (Lambda)            (None, 160, 320, 3)       0         \n",
      "_________________________________________________________________\n",
      "cropping2d_1 (Cropping2D)    (None, 90, 320, 3)        0         \n",
      "_________________________________________________________________\n",
      "conv2d_1 (Conv2D)            (None, 43, 158, 24)       1824      \n",
      "_________________________________________________________________\n",
      "conv2d_2 (Conv2D)            (None, 20, 77, 36)        21636     \n",
      "_________________________________________________________________\n",
      "conv2d_3 (Conv2D)            (None, 8, 37, 48)         43248     \n",
      "_________________________________________________________________\n",
      "conv2d_4 (Conv2D)            (None, 6, 35, 64)         27712     \n",
      "_________________________________________________________________\n",
      "conv2d_5 (Conv2D)            (None, 4, 33, 64)         36928     \n",
      "_________________________________________________________________\n",
      "flatten_1 (Flatten)          (None, 8448)              0         \n",
      "_________________________________________________________________\n",
      "dense_1 (Dense)              (None, 100)               844900    \n",
      "_________________________________________________________________\n",
      "dense_2 (Dense)              (None, 50)                5050      \n",
      "_________________________________________________________________\n",
      "dense_3 (Dense)              (None, 10)                510       \n",
      "_________________________________________________________________\n",
      "dense_4 (Dense)              (None, 1)                 11        \n",
      "=================================================================\n",
      "Total params: 981,819\n",
      "Trainable params: 981,819\n",
      "Non-trainable params: 0\n",
      "_________________________________________________________________\n",
      "Epoch 1/3\n",
      "9600/9600 [==============================] - 917s - loss: 0.0042 - val_loss: 0.0118\n",
      "Epoch 2/3\n",
      "9600/9600 [==============================] - 919s - loss: 9.3167e-04 - val_loss: 0.0104\n",
      "Epoch 3/3\n",
      "9600/9600 [==============================] - 910s - loss: 6.2894e-04 - val_loss: 0.0099\n"
     ]
    }
   ],
   "source": [
    "\n",
    "train_samples, validation_samples = load_and_split_data(data_path='./data/data/driving_log.csv', test_size=0.2)\n",
    "\n",
    "train_generator = generator(train_samples, img_path='./data/data', multi_camera=False, augment_data=False,  batch_size=CONFIG['batchsize'])\n",
    "validation_generator = generator(validation_samples, img_path='./data/data', batch_size=CONFIG['batchsize'])\n",
    "\n",
    "model = nvidia_model(summary=True)\n",
    "model.compile(optimizer='adam', loss='mse')\n",
    "\n",
    "# json dump of model architecture\n",
    "with open('logs/model.json', 'w') as f:\n",
    "    f.write(model.to_json())\n",
    "\n",
    "# define callbacks to save history and weights\n",
    "checkpointer = ModelCheckpoint('checkpoints/weights.{epoch:02d}-{val_loss:.3f}.hdf5')\n",
    "logger = CSVLogger(filename='logs/history.csv')\n",
    "\n",
    "history_object = model.fit_generator(train_generator, samples_per_epoch=CONFIG['batchsize']*300, \n",
    "                                    validation_data=validation_generator, nb_val_samples=CONFIG['batchsize']*100, \n",
    "                                    nb_epoch=3, verbose=1)\n",
    "\n",
    "model.save('model.h')"
   ]
  },
  {
   "cell_type": "code",
   "execution_count": null,
   "metadata": {},
   "outputs": [],
   "source": []
  },
  {
   "cell_type": "code",
   "execution_count": null,
   "metadata": {},
   "outputs": [],
   "source": []
  }
 ],
 "metadata": {
  "kernelspec": {
   "display_name": "Python 3",
   "language": "python",
   "name": "python3"
  },
  "language_info": {
   "codemirror_mode": {
    "name": "ipython",
    "version": 3
   },
   "file_extension": ".py",
   "mimetype": "text/x-python",
   "name": "python",
   "nbconvert_exporter": "python",
   "pygments_lexer": "ipython3",
   "version": "3.5.5"
  },
  "widgets": {
   "state": {},
   "version": "1.1.2"
  }
 },
 "nbformat": 4,
 "nbformat_minor": 2
}
